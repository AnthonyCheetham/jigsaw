{
 "cells": [
  {
   "cell_type": "code",
   "execution_count": 152,
   "metadata": {},
   "outputs": [
    {
     "data": {
      "text/plain": [
       "<module 'nlp_tools' from '/Users/cheetham/Dropbox/insight/ideas/jigsaw/nlp_tools.py'>"
      ]
     },
     "execution_count": 152,
     "metadata": {},
     "output_type": "execute_result"
    }
   ],
   "source": [
    "# A prototype / scratch book for testing things related to NLP\n",
    "# on the puzzle review data\n",
    "import numpy as np\n",
    "import pandas as pd\n",
    "import glob\n",
    "import psycopg2\n",
    "import nlp_tools\n",
    "from importlib import reload\n",
    "reload(nlp_tools)"
   ]
  },
  {
   "cell_type": "code",
   "execution_count": 135,
   "metadata": {},
   "outputs": [
    {
     "name": "stdout",
     "output_type": "stream",
     "text": [
      "Connected to database\n"
     ]
    }
   ],
   "source": [
    "# Connect to the database we'll use\n",
    "conn = nlp_tools.connect_to_db()"
   ]
  },
  {
   "cell_type": "code",
   "execution_count": 104,
   "metadata": {},
   "outputs": [
    {
     "name": "stdout",
     "output_type": "stream",
     "text": [
      "Characters: 13827128\n",
      "Words: 2493531\n",
      "Sentences: 197517\n"
     ]
    }
   ],
   "source": [
    "# Get all reviews from the database\n",
    "all_reviews = nlp_tools.get_reviews(conn)\n",
    "all_text_string = ''\n",
    "for a in all_reviews:\n",
    "    all_text_string+=a[0]\n",
    "print('Characters:',len(all_text_string))\n",
    "print('Words:',len(all_text_string.split(' ')))\n",
    "print('Sentences:',len(all_text_string.split('.')))"
   ]
  },
  {
   "cell_type": "code",
   "execution_count": 105,
   "metadata": {},
   "outputs": [],
   "source": [
    "# How long are the reviews per puzzle?\n",
    "cursor = conn.cursor()\n",
    "all_reviews = []\n",
    "n_reviews_per_product = []\n",
    "n_words = []\n",
    "for ix in range(6989):\n",
    "    rev = nlp_tools.get_reviews(conn,product_index=ix+1)\n",
    "    n_reviews_per_product.append(len(rev))\n",
    "    # Append them all to one string\n",
    "    bigstring = ''\n",
    "    for a in rev:\n",
    "        bigstring+=a[0]\n",
    "    bigstring = bigstring.replace('.','. ').replace('  ',' ')\n",
    "    n_words.append(len(bigstring.split(' ')))        \n",
    "    all_reviews.append(bigstring)"
   ]
  },
  {
   "cell_type": "code",
   "execution_count": 106,
   "metadata": {},
   "outputs": [
    {
     "data": {
      "image/png": "[encoded data removed]",
      "text/plain": [
       "<Figure size 432x288 with 1 Axes>"
      ]
     },
     "metadata": {
      "needs_background": "light"
     },
     "output_type": "display_data"
    }
   ],
   "source": [
    "import matplotlib.pyplot as plt\n",
    "bins = np.logspace(0,4,num=15)\n",
    "plt.hist(n_words,bins=bins)\n",
    "plt.xlabel('Words per review')\n",
    "plt.ylabel('Number of Products')\n",
    "plt.xscale('log')\n",
    "plt.tight_layout()\n",
    "# plt.show()\n",
    "# plt.savefig('words_per_review.png')"
   ]
  },
  {
   "cell_type": "code",
   "execution_count": 107,
   "metadata": {},
   "outputs": [],
   "source": [
    "# Try word2vec with gensim\n",
    "from nltk.tokenize import sent_tokenize, word_tokenize \n",
    "import warnings \n",
    "  \n",
    "warnings.filterwarnings(action = 'ignore') \n",
    "  \n",
    "import gensim \n",
    "from gensim.models import Word2Vec"
   ]
  },
  {
   "cell_type": "code",
   "execution_count": 108,
   "metadata": {},
   "outputs": [],
   "source": [
    "### Using the Google News pre-trained Word2Vec model to convert words \n",
    "# into vectors (with Gensim):\n",
    "\n",
    "from gensim.models import KeyedVectors\n",
    "# Load vectors directly from the file\n",
    "model = KeyedVectors.load_word2vec_format('/Users/cheetham/Dropbox/insight/word2vec/GoogleNews-vectors-negative300.bin', binary=True)"
   ]
  },
  {
   "cell_type": "code",
   "execution_count": 161,
   "metadata": {},
   "outputs": [
    {
     "name": "stdout",
     "output_type": "stream",
     "text": [
      "6990\n",
      "https://amazon.com/4D-Cityscape-Game-Thrones-Westeros/dp/B00DLX51HK\n",
      "The colors and layout of this puzzle were wonderfu\n",
      "0.575036495923996\n"
     ]
    }
   ],
   "source": [
    "# Try it on a review\n",
    "import scipy\n",
    "import nltk\n",
    "all_product_urls = np.loadtxt('1000_piece/product_urls.txt',dtype=str)\n",
    "\n",
    "print(len(all_product_urls))\n",
    "n = 500\n",
    "print(all_product_urls[n])\n",
    "print(all_reviews[n][0:50])\n",
    "review = all_reviews[n]\n",
    "review = nlp_tools.clean_tokenize_stops(review)\n",
    "vect = nlp_tools._evaluate(review,use_model=model)\n",
    "# print(model['difficult'])\n",
    "\n",
    "search_term = 'Difficult'\n",
    "clean_search_term = nlp_tools.clean_tokenize_stops(search_term)\n",
    "\n",
    "vect2 = nlp_tools._evaluate(clean_search_term,use_model=model)\n",
    "comparator = scipy.spatial.distance.cosine\n",
    "\n",
    "print(comparator(vect,vect2))"
   ]
  },
  {
   "cell_type": "code",
   "execution_count": 118,
   "metadata": {},
   "outputs": [
    {
     "name": "stdout",
     "output_type": "stream",
     "text": [
      "6989\n"
     ]
    }
   ],
   "source": [
    "# Prototype on all reviews!\n",
    "import scipy\n",
    "all_product_urls = np.loadtxt('1000_piece/product_urls.txt',dtype=str)\n",
    "\n",
    "# Prepare the reviews\n",
    "n_reviews = len(all_reviews)\n",
    "print(n_reviews)\n",
    "rev_vects = []\n",
    "clean_revs = []\n",
    "for r_ix in range(n_reviews):\n",
    "    clean_rev = clean(all_reviews[r_ix])\n",
    "    clean_revs.extend(clean_rev)\n",
    "    if (len(clean_rev) > 50) and (n_reviews_per_product[r_ix] > 50):\n",
    "        vect = _evaluate(clean_rev)\n",
    "        rev_vects.append(vect)\n",
    "    else:\n",
    "        rev_vects.append(np.repeat(np.nan,300))"
   ]
  },
  {
   "cell_type": "code",
   "execution_count": 159,
   "metadata": {},
   "outputs": [
    {
     "name": "stdout",
     "output_type": "stream",
     "text": [
      "Training with 184100 sentences\n"
     ]
    }
   ],
   "source": [
    "# Try training a new model on this as well\n",
    "sentences = []\n",
    "for r in all_reviews:\n",
    "    if len(r) == 0:\n",
    "        continue\n",
    "    clean_sentences = r.split('.')\n",
    "    for c in clean_sentences:\n",
    "        if len(c.strip()) > 5:\n",
    "            x = c.strip().lower().replace('puzzle','').replace('white mountain','')\n",
    "            x = x.replace('ravensburger','')\n",
    "            sentences.append(x)\n",
    "\n",
    "print('Training with {0} sentences'.format(len(sentences)))\n",
    "# my_model = gensim.models.Word2Vec(clean_revs, min_count = 1,  \n",
    "#                               size = 100, window = 5)\n",
    "# print('Done')\n",
    "\n",
    "# # Import the wordcloud library\n",
    "# from wordcloud import WordCloud\n",
    "# # Join the different processed titles together.\n",
    "# long_string = ','.join(sentences)\n",
    "# # Create a WordCloud object\n",
    "# wordcloud = WordCloud(background_color=\"white\", max_words=500, contour_width=3, contour_color='steelblue')\n",
    "# # Generate a word cloud\n",
    "# wordcloud.generate(long_string)\n",
    "# # Visualize the word cloud\n",
    "# wordcloud.to_image()"
   ]
  },
  {
   "cell_type": "code",
   "execution_count": 158,
   "metadata": {},
   "outputs": [
    {
     "name": "stdout",
     "output_type": "stream",
     "text": [
      "i used this product on vacation when we always do s\n",
      "['i', 'used', 'this', 'product', 'on', 'vacation', 'when', 'we', 'always', 'do', 's']\n",
      "['used', 'product', 'vacation', 'always']\n"
     ]
    }
   ],
   "source": [
    "# print(sentences[800:802])\n",
    "phrase = sentences[800]\n",
    "step1 = nlp_tools.clean(phrase)\n",
    "step2 = nlp_tools.tokenize(step1)\n",
    "step3 = nlp_tools.remove_stops(step2)\n",
    "print(step1)\n",
    "print(step2)\n",
    "print(step3)"
   ]
  },
  {
   "cell_type": "code",
   "execution_count": 119,
   "metadata": {},
   "outputs": [
    {
     "name": "stdout",
     "output_type": "stream",
     "text": [
      "Topics found via LDA:\n",
      "\n",
      "Topic #0:\n",
      "love loved gift recommend bought loves working doing perfect frame\n",
      "\n",
      "Topic #1:\n",
      "like time box buy took ve just picture brand finish\n",
      "\n",
      "Topic #2:\n",
      "pieces piece missing fit cut like box shapes don sturdy\n",
      "\n",
      "Topic #3:\n",
      "quality good really challenge great fun nice enjoyed hard challenging\n",
      "\n",
      "Topic #4:\n",
      "fun great beautiful challenging colors love family picture looks just\n"
     ]
    }
   ],
   "source": [
    "# Try LDA\n",
    "# Load the LDA model from sk-learn\n",
    "from sklearn.feature_extraction.text import CountVectorizer\n",
    "from sklearn.decomposition import LatentDirichletAllocation as LDA\n",
    "\n",
    "# Initialise the count vectorizer with the English stop words\n",
    "count_vectorizer = CountVectorizer(stop_words='english')\n",
    "# Fit and transform the processed titles\n",
    "count_data = count_vectorizer.fit_transform(sentences)\n",
    " \n",
    "# Helper function\n",
    "def print_topics(model, count_vectorizer, n_top_words):\n",
    "    words = count_vectorizer.get_feature_names()\n",
    "    for topic_idx, topic in enumerate(model.components_):\n",
    "        print(\"\\nTopic #%d:\" % topic_idx)\n",
    "        print(\" \".join([words[i]\n",
    "                        for i in topic.argsort()[:-n_top_words - 1:-1]]))\n",
    "        \n",
    "# Tweak the two parameters below\n",
    "number_topics = 5\n",
    "number_words = 10\n",
    "# Create and fit the LDA model\n",
    "lda = LDA(n_components=number_topics, n_jobs=-1)\n",
    "lda.fit(count_data)\n",
    "# Print the topics found by the LDA model\n",
    "print(\"Topics found via LDA:\")\n",
    "print_topics(lda, count_vectorizer, number_words)"
   ]
  },
  {
   "cell_type": "code",
   "execution_count": 139,
   "metadata": {},
   "outputs": [
    {
     "name": "stdout",
     "output_type": "stream",
     "text": [
      "Best matches:\n",
      "['https://amazon.com/MasterPieces-Accessories-Pieces-Puzzles-Included/dp/B0006H1BGY'\n",
      " 'https://amazon.com/Bits-Pieces-Mystery-Bedford-Dieckhoner/dp/B005OKBR9O'\n",
      " 'https://amazon.com/Star-Wars-Photomosiac-Jigsaw-Puzzle/dp/B00OMVQE44'\n",
      " 'https://amazon.com/Buffalo-Games-Escher-Portrait-Jigsaw/dp/B01LY95JNR'\n",
      " 'https://amazon.com/Beverly-Micro-White-Jigsaw-Puzzle/dp/B008DCQE3O'\n",
      " 'https://amazon.com/Aquarius-Comics-Universe-Jigsaw-1500-Piece/dp/B00MWVHUTE'\n",
      " 'https://amazon.com/Bits-Pieces-African-Giraffes-Elephants/dp/B015VMTA2A'\n",
      " 'https://amazon.com/Star-Wars-Collection-Jigsaw-Puzzle/dp/B073YG9KVG'\n",
      " 'https://amazon.com/College-Magical-Knowledge-Castle-Sunsout/dp/B00064SA3O'\n",
      " 'https://amazon.com/Classic-Mystery-Jigsaw-Puzzle-Sherlock/dp/B003G9MAM8']\n",
      "Cheap construction. You get what you pay for. \n",
      "Very satisfied. \n",
      "Did not fit my puzzle. Costs & 7 dollars UPS shipping to send it back. I'll just keep it. \n",
      "This frame is exactly as stated. It comes in 4 pieces and you put it together. It is very easy to put together. I painted mine black and it accepts paint normally and looks terrific. I love it. \n",
      "It is said that this frames should be fit perfect for the same size of jigsaw puzzle BUT IT IS NOT ! I put one frame together and tried put my puzzle in it and it did not fit. So I had to start return process and pay for shipment . \n",
      "my puzzle was cm too big.  but it worked for another puzzle I had\n",
      "It was good looking but I had to cut my puzzle Down to fit. I ordered the size I was told on the box but the frame was 1/2 inch too small all around. \n",
      "Nice quality!\n",
      "Surprised how nice the wood looked. . Holds in place but will probably need to buy cardboard to put on the back of the puzzle for a good back to fit perfectly. \n",
      "Very solid frame. Does require assembly but not too bad. Looks really nice on my wall! Fit is a bit tight but the puzzle did fit in. \n",
      "Beautiful frame but it didn't fit the 1000 piece puzzle extremely disappointed in this for that reason\n",
      "Must assemble yourself, and no plexiglass. \n",
      "exactly what I was looking for. great quality for the price. \n",
      "This worked perfect for framing a puzzle to hang in the wall. \n",
      "Nice clear wood frame, easy assembly, size delivered exactly as ordered. \n",
      "I wish i read the revies, this is garbage, It is flimsy, doesnt come with glass or a back ground, and poorly manifactured\n",
      "Construction quality was not good at all. You have to assemble the sides together, which is fine if the holes were the size of the tack they provide to you. Holes varied in size and not drilled properly. \n",
      "The description didn't make it clear that this is in fact just four pieces of wood. So I now have to go and figure out how to put it together. \n",
      "garbage product. very disappointed. doesn't have a back cover or a glass. \n",
      "Used it to put our puzzle in. \n",
      "The hardware didn't come with the frame. Didn't know we were supposed ro put it together. \n",
      "Peices don't fit together well. \n",
      "My frame did not come with anything else besides the 4 wood pieces. Not happy!\n",
      "It's a cheaply made frame, but it's exactly what you see. It worked just fine in framing the puzzle I bought it for. \n",
      "ok\n",
      "It was easy to assemble\n",
      "The four pieces fit together well and the frame was the exact size required.  Unfortunately, there was no option for purchasing a backing, nor to purchase glass/plastic to cover the puzzle.  We \"made do\" and the quilt themed puzzle is now hanging in my quilt room.  I do not consider this frame to be a 'toy. '\n",
      "Didn 't fit close. \n",
      "worked great\n",
      "too small - not size as advertised\n",
      "Easy to put together and fit perfectly\n",
      "You get what you pay for -- so I was hoping for somewhat better. Slots barely cut at the corners and large gaps at mitred edges as a result. \n",
      "Very easy to assemble. Satisfied. \n",
      "Not what I expected, which had I read the reviews prior to ordering, I would have known. \n",
      "Easy to assemble, perfect size, I will continue buying it\n",
      "We have not received 2 screws, 2 metal hangers, 4 plastic thumbnails. All we got was the instruction sheet with 4 pieces of wood. Please assist. \n",
      "It's hard to find this exact size. works great!\n",
      "The puzzles do not fit in the frames like the website says. \n",
      "Wasn't informed I would need glue also. Had to go to hobby lobby and purchased separately. \n",
      "Great value\n",
      "Frame measurement was slightly off which caused the puzzle not to fit!!\n",
      "I expected to receive a full frame with front and back covers. I only received outline frame-4 wooden bars. I don't know what to do with them. . . . \n",
      "Although it was easy to put together and a decent price, it didn't quite fit the puzzle. Once I had the puzzle all glued, I had to cut about a quarter inch off in both directions. will not purchase again. \n",
      "no it was weak and did not stay together\n",
      "The frame is really nice but it doesn't fit my 19. 25 x 26. 75 puzzle because after putting the puzzles together it's more like 19. 25 x 27\". Not what the puzzle box says. I have to either get a custom frame of cut the puzzle down. NOT HAPPY!!!\n",
      "good\n",
      "Not comes with plastic cover. Just the frame . \n",
      "Awful. Puzzle does not fit without rippling and now I'm stuck with a wood frame void of any real value.  Will not purchase anything from Master Pieces ever again. \n",
      "You still need backing pads, puzzle glue and transparent faceplate to finish the framing. The following all in one product may be a better choice:[. . . ]\n",
      "too much money for 4 sticks, and a clip hanger. Now that i see whats involved I'll make the next one\n",
      "The product is unusable as I received 4 pieces 19 in long.  And the size dimensions are not square.  Something like 19x29\n",
      "didn't hold up. broke at coeners\n",
      "I bought this for grandson. He has a puzzle in it and on the wall. \n",
      "I can barely squeeze in my puzzle (which is also made by Master Pieces). The puzzle turned out not flat but wavy. And it still needs a back or the glass to support it. Very disappointed, I expected a better compatibility for two products made by the same company. \n",
      "This is a poorly made frame. The pre-drilled holes were not the correct size or shape for the supplied joint pieces, and one of them had cracked the wood surrounding it. Once we did assemble the frame there were obvious gaps at the corners and when I tried to wiggle them into place, one of the plastic joints simply snapped. I was barely putting any force into my efforts, so this was simply ridiculous. The wood also splintered while the joints were being put in place. We're going to try to save this frame with superglue or something but I'm very disappointed that the only frame of this size I could find was a total waste of 20. Edit: I superglued the corners that could not be joined with the plastic pieces. When I went to actually put the puzzle in, the frame was not the correct size! It didn't fit by a small margin, and then the corners came unglued. I'm returning this piece of crap. DO NOT BUY!\n",
      "I bought this frame for a 19-1/4\" by 26-3/4\" puzzle by Master Pieces and it fit perfectly. This frame does require some assembly, as it comes with 4 pieces to form the sides. I found it very easy to assemble (saying this as someone who can assemble a bookshelf and not much else). Thanks to reviews I knew what I was getting when I ordered this: a frame without glass or backing. Just the wooden frame part. That is all it comes with. And honestly, it is just fine this way. My puzzle has been hanging in this frame for over 6 months now in a bathroom and no problems. Looks great. Note, in order to frame your puzzle, you will first need to glue it with some puzzle glue. This frame does not come with glue. It is just a frame. Finally, price. When I bought this frame it was 21. 99 and I thought it was a little pricey, but there were no other options. Now it is 29. 24. I doubt I would have bought it at this price. \n",
      "The quality of the wood and its finish was OK. However, upon assembly the plastic connectors were much bigger that the opening at the corners of the frame. Therefore, the assembly required much more pressure to be applied that led to the cracking of the wood (on the back side). Additionally,because of size of the plastic connectors, the sides did not adjust seamlessly and there were big gaps between the planks. Lastly, when I framed the puzzle (although it was the right size), the frame overlapped with least 1/2\" of the puzzle, where the text was displayed, and was not aesthetically appealing. \n",
      "Sturdy frame, nice color and clean finish. Easy to assemble and looks nice hanging on the wall. My only quibble is that it is about 1/4\" too short for our puzzle, which supposedly has the same dimensions. But it was a cheap puzzle, so it's hard to say if the fault is with the puzzle or the frame. It doesn't look that bad with one end of the puzzle not laying flat for now, and I'll probably trim the end off the puzzle eventually. \n",
      "It was a perfect fit for the puzzle.  However it is just 4 strips of wood that you put together with the plastic \"thumbtacks\" that are supplied.  They did not go in easily has the predrilled holes were a bit small.  With a small knife I was able to make them a bit bigger and then use a hammer to pound them in.  There is no back cover so I used poster board for my peace of mind that the puzzle would stay in place. Shipping was quick and packed well. \n",
      "This frame comes disassembled, with four frame pieces and four corner connectors.  This product had issues. . One of the frame pieces didn't have the holes bored out so I couldn't stick the connector pieces in. Then I saw one frame piece had a chip on the corner, so the colors of that corner didn't match. Then I saw one of the frame pieces lying on the floor, with a little bend toward the end, so it's a bit warped. Lastly when I did connect the other three pieces the tips didn't match. Seriously? 0 for 4.  There's only so much that could go wrong with a frame and I think they all went wrong in one package.  Unfortunately, the color matches my puzzle perfectly, and it comes in a rare size that fits my puzzle. The wood is decent quality for the price.  So I'll return it and try my luck again.  I'll update the review if the second one comes in better. Updated: The second one came and all was good.  I'll give it 3 stars since it was perfect the second time but the first was a debacle.  They did accept the return and send a new one pretty easily and quickly so kudos for the seller. \n",
      "One side of the frame was a different color of wood from the others.  When I went to hammer in the little plastic pieces that hold it together, one piece of wood split.  Then the frame covered a 1/2” of all sides of the puzzle, which, in my case cut off a lot of the little quotes on the chicken puzzle.  Useless to me.  I threw it out. \n",
      "The frame is an exact match for one previously purchased - the two puzzles in the frames make a wonderful accent.  Perfect - couldn't be happier!\n",
      "I was not able to find a frame in the correct size for a puzzle that I wanted to display so I finally caved and paid more for this size than most frames.  The frame came in a few pieces and needed to be put together.  The problem was that it wouldn't sit flush because one piece had a bigger chunk taken out of it than its interlocking piece.  Since then the sides keep loosening and I feel like I am constantly trying to push it back together.  The icing on the cake was that it didn't fit the puzzle I bought it for but I can't say whether that was because the measurements of the frame were off versus the measurement of the puzzle.  I would not purchase again by any means. \n",
      "The frame is relatively inexpensive when compared with other frames available on the web.  I've ordered several for the Master Pieces puzzles and found all easy to install.  Upon puzzle completion I brushed on a clear coat sealer to hold the puzzle together.  I let the sealer dry overnight.  Before fitting the puzzle into the frame I trimmed a piece of mat board purchased from a local art supply store to fit precisely in the frame.  Next I placed several strips of carpet tape I on the mat board and mounted the puzzle. \n",
      "I don't know why they sell this product in these sizes while most of the jigsaw puzzles are 19-3/4 and 26-3/4. You should cut half inches of height of the puzzle you have made in order to fit it in. 2 stars are for its good apperance. \n",
      "the frame is what it is, but there's no front or back to it, no cardboard or glass to protect the puzzle you put in it or to help to hold it flat or anything. I ended up cutting a piece of cardboard myself though and it works fine. Putting the frame together was simple enough, and it looks nice. I just wasn't expecting to have to build it myself and supply my own back for it. \n",
      "Seems pricey for a wood frame, and we had to trim the puzzle a little which was weird since its made for it. \n",
      "This is the second frame from this company I have purchased. My puzzle fit perfectly and the finish on the frame is great. It exceeds my expectations and is well-worth the money. \n",
      "It all looks good to me haven't put it together yet\n",
      "Beautiful frame but the description at the time I purchased it had a different measurement so it wound up being just a bit too small.  I am keeping it for future use. \n",
      "\n",
      "[0.76283097 0.75487201 0.75278091 0.75182001 0.75084691 0.74613836\n",
      " 0.74589968 0.7449148  0.74438387 0.74437335]\n",
      "Similarity for a known difficult puzzle: 0.0\n",
      "Similarity for a known easy puzzle: 0.0\n"
     ]
    },
    {
     "data": {
      "image/png": "[encoded data removed]",
      "text/plain": [
       "<Figure size 432x288 with 1 Axes>"
      ]
     },
     "metadata": {
      "needs_background": "light"
     },
     "output_type": "display_data"
    }
   ],
   "source": [
    "search_term = 'seaside boats in the ocean'\n",
    "clean_search_term = clean(search_term)\n",
    "search_vect = _evaluate(clean_search_term,model=my_model)\n",
    "comparator = scipy.spatial.distance.cosine\n",
    "\n",
    "# Find similarity with each puzzle\n",
    "sims = []\n",
    "for r_ix in range(n_reviews):\n",
    "    s = comparator(rev_vects[r_ix],search_vect)\n",
    "    if np.isnan(s):\n",
    "        s = 0\n",
    "    sims.append(s)\n",
    "    \n",
    "sims = np.array(sims)\n",
    "# Find the max 10\n",
    "best_matches = np.argsort(sims)[-10:]\n",
    "best_matches = best_matches[::-1]\n",
    "print('Best matches:')\n",
    "print(all_product_urls[best_matches])\n",
    "print(all_reviews[best_matches[0]])\n",
    "print(sims[best_matches])\n",
    "\n",
    "# pick a hard one\n",
    "w = np.where(all_product_urls == 'https://amazon.com/BetterCo-Gradient-Jigsaw-Puzzle-Pieces/dp/B07P7FRSJK')[0][0]\n",
    "print('Similarity for a known difficult puzzle:',sims[w])\n",
    "\n",
    "# pick a hard one\n",
    "w = np.where(all_product_urls == 'https://amazon.com/BetterCo-Gradient-Jigsaw-Puzzle-Pieces/dp/B07P7FRSJK')[0][0]\n",
    "print('Similarity for a known easy puzzle:',sims[w])\n",
    "\n",
    "plt.hist(sims[sims>0])\n",
    "plt.show()"
   ]
  },
  {
   "cell_type": "code",
   "execution_count": null,
   "metadata": {},
   "outputs": [],
   "source": []
  }
 ],
 "metadata": {
  "kernelspec": {
   "display_name": "Python 3",
   "language": "python",
   "name": "python3"
  },
  "language_info": {
   "codemirror_mode": {
    "name": "ipython",
    "version": 3
   },
   "file_extension": ".py",
   "mimetype": "text/x-python",
   "name": "python",
   "nbconvert_exporter": "python",
   "pygments_lexer": "ipython3",
   "version": "3.7.4"
  }
 },
 "nbformat": 4,
 "nbformat_minor": 4
}
