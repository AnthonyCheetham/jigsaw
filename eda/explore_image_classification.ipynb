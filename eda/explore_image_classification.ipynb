{
 "cells": [
  {
   "cell_type": "code",
   "execution_count": 1,
   "metadata": {},
   "outputs": [],
   "source": [
    "# Try image classification using AlexNet on one of the jigsaw images\n",
    "from torchvision import models\n",
    "import torch"
   ]
  },
  {
   "cell_type": "code",
   "execution_count": 2,
   "metadata": {},
   "outputs": [],
   "source": [
    "# Load pre-trained AlexNet\n",
    "alexnet = models.alexnet(pretrained=True)"
   ]
  },
  {
   "cell_type": "code",
   "execution_count": 3,
   "metadata": {},
   "outputs": [],
   "source": [
    "# Define a transform to prepare the image for AlexNet\n",
    "from torchvision import transforms\n",
    "transform = transforms.Compose([            #[1]\n",
    " transforms.Resize(256),                    #[2]\n",
    " transforms.CenterCrop(224),                #[3]\n",
    " transforms.ToTensor(),                     #[4]\n",
    " transforms.Normalize(                      #[5]\n",
    " mean=[0.485, 0.456, 0.406],                #[6]\n",
    " std=[0.229, 0.224, 0.225]                  #[7]\n",
    " )])"
   ]
  },
  {
   "cell_type": "code",
   "execution_count": 20,
   "metadata": {},
   "outputs": [],
   "source": [
    "# Import Pillow and load the image\n",
    "from PIL import Image\n",
    "import glob\n",
    "ims = glob.glob('storage_theme/food/*.jpg')\n",
    "im = ims[1]\n",
    "img = Image.open(im)"
   ]
  },
  {
   "cell_type": "code",
   "execution_count": 21,
   "metadata": {},
   "outputs": [],
   "source": [
    "# Prepare the image\n",
    "img_t = transform(img)\n",
    "batch_t = torch.unsqueeze(img_t, 0)"
   ]
  },
  {
   "cell_type": "code",
   "execution_count": 22,
   "metadata": {},
   "outputs": [],
   "source": [
    "# Run AlexNet!\n",
    "alexnet.eval()\n",
    "out = alexnet(batch_t)\n",
    "test = img_t.view(1, 3, 224, 224)"
   ]
  },
  {
   "cell_type": "code",
   "execution_count": 23,
   "metadata": {},
   "outputs": [
    {
     "name": "stdout",
     "output_type": "stream",
     "text": [
      "[(\"509: 'confectionery, confectionary, candy store',\", 74.10552215576172), (\"582: 'grocery store, grocery, food market, market',\", 11.73461627960205), (\"692: 'packet',\", 5.971068382263184), (\"800: 'slot, one-armed bandit',\", 5.235652446746826), (\"917: 'comic book',\", 1.4645171165466309)]\n"
     ]
    }
   ],
   "source": [
    "# Check which class it is\n",
    "with open('imagenet_classes.txt') as f:\n",
    "    labels = [line.strip() for line in f.readlines()]\n",
    "    \n",
    "percentage = torch.nn.functional.softmax(out, dim=1)[0] * 100\n",
    "\n",
    "_, indices = torch.sort(out, descending=True)\n",
    "print([(labels[idx], percentage[idx].item()) for idx in indices[0][:5]])"
   ]
  },
  {
   "cell_type": "code",
   "execution_count": 22,
   "metadata": {},
   "outputs": [
    {
     "data": {
      "text/plain": [
       "[(\"454: 'bookshop, bookstore, bookstall',\", 72.2619400024414),\n",
       " (\"860: 'tobacco shop, tobacconist shop, tobacconist',\", 23.93340492248535),\n",
       " (\"865: 'toyshop',\", 0.7846974730491638),\n",
       " (\"509: 'confectionery, confectionary, candy store',\", 0.7568069696426392),\n",
       " (\"624: 'library',\", 0.5270415544509888)]"
      ]
     },
     "execution_count": 22,
     "metadata": {},
     "output_type": "execute_result"
    }
   ],
   "source": [
    "# Try resnet too\n",
    "# First, load the model\n",
    "resnet = models.resnet101(pretrained=True)\n",
    " \n",
    "# Second, put the network in eval mode\n",
    "resnet.eval()\n",
    " \n",
    "# Third, carry out model inference\n",
    "out = resnet(batch_t)\n",
    " \n",
    "# Forth, print the top 5 classes predicted by the model\n",
    "_, indices = torch.sort(out, descending=True)\n",
    "percentage = torch.nn.functional.softmax(out, dim=1)[0] * 100\n",
    "[(labels[idx], percentage[idx].item()) for idx in indices[0][:5]]"
   ]
  },
  {
   "cell_type": "code",
   "execution_count": null,
   "metadata": {},
   "outputs": [],
   "source": []
  }
 ],
 "metadata": {
  "kernelspec": {
   "display_name": "Python 3",
   "language": "python",
   "name": "python3"
  },
  "language_info": {
   "codemirror_mode": {
    "name": "ipython",
    "version": 3
   },
   "file_extension": ".py",
   "mimetype": "text/x-python",
   "name": "python",
   "nbconvert_exporter": "python",
   "pygments_lexer": "ipython3",
   "version": "3.7.4"
  }
 },
 "nbformat": 4,
 "nbformat_minor": 4
}
